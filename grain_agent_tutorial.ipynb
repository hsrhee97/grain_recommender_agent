{
 "cells": [
  {
   "cell_type": "markdown",
   "id": "189bbea4",
   "metadata": {},
   "source": [
    "# 🌾 Grain Recommender Agent — 실행 튜토리얼\n",
    "\n",
    "이 노트북은 **규칙 기반 그레인 추천 에이전트**의 단일 턴 플로우를\n",
    "직접 실행하고 결과를 살펴볼 수 있는 가이드입니다. 아래 순서를 따라가면\n",
    "자유 텍스트 입력 → 정보 추출 → 검증 → 추천 → 설명/포매팅까지 한 번에 수행되는\n",
    "동작을 확인할 수 있습니다."
   ]
  },
  {
   "cell_type": "markdown",
   "id": "3c2be4e1",
   "metadata": {},
   "source": [
    "## 1. 사전 준비\n",
    "- 프로젝트 루트(이 노트북이 있는 경로)에서 `python -m venv .venv && source .venv/bin/activate` 등으로 가상환경을 활성화하고,\n",
    "  `pip install -r requirements.txt`로 의존성을 설치합니다.\n",
    "- (선택) FastAPI 데모를 실행하려면 `fastapi`, `uvicorn`, `pydantic` 패키지가 추가로 필요합니다."
   ]
  },
  {
   "cell_type": "markdown",
   "id": "9b85cf9a",
   "metadata": {},
   "source": [
    "## 2. 프로젝트 경로 확인\n",
    "아래 셀은 노트북의 현재 작업 경로를 확인하고, `app/` 폴더가 존재하는지 간단히 검사합니다.\n",
    "필요하다면 `PROJECT_ROOT`를 수정해 주세요."
   ]
  },
  {
   "cell_type": "code",
   "execution_count": null,
   "id": "f2f7fad1",
   "metadata": {},
   "outputs": [],
   "source": [
    "\n",
    "from pathlib import Path\n",
    "\n",
    "PROJECT_ROOT = Path.cwd()\n",
    "if not (PROJECT_ROOT / \"app\").exists():\n",
    "    raise FileNotFoundError(f\"app/ 폴더를 찾을 수 없습니다: {PROJECT_ROOT}\")\n",
    "\n",
    "print(f\"PROJECT_ROOT = {PROJECT_ROOT}\")\n"
   ]
  },
  {
   "cell_type": "markdown",
   "id": "094f543c",
   "metadata": {},
   "source": [
    "## 3. 모듈 임포트 및 설정\n",
    "`sys.path`에 프로젝트 루트를 추가한 뒤, 에이전트 플로우와 스키마/룰 설정을 로드합니다."
   ]
  },
  {
   "cell_type": "code",
   "execution_count": null,
   "id": "eb8cf473",
   "metadata": {},
   "outputs": [],
   "source": [
    "\n",
    "import sys\n",
    "\n",
    "if str(PROJECT_ROOT) not in sys.path:\n",
    "    sys.path.insert(0, str(PROJECT_ROOT))\n",
    "\n",
    "from pprint import pprint\n",
    "from app.agent.graph import run_agent_flow, SURVEY_SCHEMA, RULE_WEIGHTS\n",
    "\n",
    "print(\"Imports OK. 스키마 필수 필드:\", SURVEY_SCHEMA[\"required\"])\n"
   ]
  },
  {
   "cell_type": "markdown",
   "id": "bd096c94",
   "metadata": {},
   "source": [
    "## 4. 추천 플로우 실행\n",
    "대표적인 입력 예시를 사용해 추천 결과를 확인합니다. 메시지와 페이로드(JSON)를 함께 출력하도록 구성했습니다."
   ]
  },
  {
   "cell_type": "code",
   "execution_count": null,
   "id": "3bfa0864",
   "metadata": {},
   "outputs": [],
   "source": [
    "\n",
    "example_text = \"혈당 관리가 필요하고 주 6번 정도 밥을 먹어요. 찰진 식감이 좋고 보리는 빼주세요. 글루텐은 피하고 싶어요.\"\n",
    "\n",
    "result = run_agent_flow(example_text, user_id=\"demo-user\")\n",
    "print(result[\"message\"])\n",
    "print(\"\\nPayload:\")\n",
    "pprint(result[\"payload\"])\n"
   ]
  },
  {
   "cell_type": "markdown",
   "id": "c14c349c",
   "metadata": {},
   "source": [
    "## 5. 검증 실패/재질문 흐름 확인\n",
    "필수 정보가 부족한 입력을 전달하면 검증 도구가 재질문 메시지를 반환합니다."
   ]
  },
  {
   "cell_type": "code",
   "execution_count": null,
   "id": "373e4bea",
   "metadata": {},
   "outputs": [],
   "source": [
    "\n",
    "missing_text = \"다이어트 목적이에요.\"\n",
    "\n",
    "reask = run_agent_flow(missing_text, user_id=\"demo-user\")\n",
    "print(reask[\"message\"])\n",
    "print(\"\\nPayload:\")\n",
    "pprint(reask[\"payload\"])\n"
   ]
  },
  {
   "cell_type": "markdown",
   "id": "f544260b",
   "metadata": {},
   "source": [
    "## 6. 스키마와 규칙 살펴보기\n",
    "추출/검증/추천에 사용되는 스키마와 규칙 설정을 직접 확인할 수 있습니다.\n",
    "필요시 이 값을 편집해 자신만의 규칙을 정의할 수 있습니다."
   ]
  },
  {
   "cell_type": "code",
   "execution_count": null,
   "id": "53ee2b22",
   "metadata": {},
   "outputs": [],
   "source": [
    "\n",
    "print(\"SURVEY_SCHEMA:\")\n",
    "pprint(SURVEY_SCHEMA)\n",
    "\n",
    "print(\"\\nRULE_WEIGHTS (일부):\")\n",
    "for key, value in list(RULE_WEIGHTS.items())[:5]:\n",
    "    print(f\"- {key}: {value}\")\n"
   ]
  },
  {
   "cell_type": "markdown",
   "id": "5d7b488e",
   "metadata": {},
   "source": [
    "## 7. 자유 입력 실험용 헬퍼\n",
    "`try_flow` 함수에 임의의 문장을 넣어 결과를 반복적으로 확인할 수 있습니다."
   ]
  },
  {
   "cell_type": "code",
   "execution_count": null,
   "id": "6b87483e",
   "metadata": {},
   "outputs": [],
   "source": [
    "\n",
    "def try_flow(text: str, user_id: str = \"demo-user\"):\n",
    "    \"\"\"Utility helper to run the agent flow and pretty-print the results.\"\"\"\n",
    "    output = run_agent_flow(text, user_id=user_id)\n",
    "    print(\"\\n=== 메시지 ===\")\n",
    "    print(output[\"message\"])\n",
    "    print(\"\\n=== 페이로드 ===\")\n",
    "    pprint(output[\"payload\"])\n",
    "    return output\n",
    "\n",
    "# 사용 예시\n",
    "_ = try_flow(\"근력 강화 목표고 주 4번 밥을 먹어요. 고슬한 식감을 원하고 보리는 피하고 싶어요.\")\n"
   ]
  },
  {
   "cell_type": "markdown",
   "id": "3601674e",
   "metadata": {},
   "source": [
    "---\n",
    "\n",
    "필요하다면 FastAPI 엔드포인트(`app/api/main.py`)를 이용해 REST 호출을 테스트할 수도 있습니다.\n",
    "이 경우 `uvicorn`과 `fastapi` 패키지를 설치한 뒤 별도 터미널에서 `uvicorn app.api.main:app --reload`\n",
    "명령을 실행하고, `requests` 혹은 브라우저로 `/recommend`를 호출해 보세요."
   ]
  }
 ],
 "metadata": {
  "kernelspec": {
   "display_name": "Python 3",
   "language": "python",
   "name": "python3"
  },
  "language_info": {
   "name": "python",
   "version": "3.10"
  }
 },
 "nbformat": 4,
 "nbformat_minor": 5
}
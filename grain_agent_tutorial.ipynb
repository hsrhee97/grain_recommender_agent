{
 "cells": [
  {
   "cell_type": "markdown",
   "id": "189bbea4",
   "metadata": {},
   "source": [
    "# 🌾 Grain Recommender Agent — 실행 튜토리얼\n",
    "\n",
    "이 노트북은 **규칙 기반 그레인 추천 에이전트**의 단일 턴 플로우를\n",
    "직접 실행하고 결과를 살펴볼 수 있는 가이드입니다. 아래 순서를 따라가면\n",
    "자유 텍스트 입력 → 정보 추출 → 검증 → 추천 → 설명/포매팅까지 한 번에 수행되는\n",
    "동작을 확인할 수 있습니다."
   ]
  },
  {
   "cell_type": "markdown",
   "id": "3c2be4e1",
   "metadata": {},
   "source": [
    "## 1. 사전 준비\n",
    "- 프로젝트 루트(이 노트북이 있는 경로)에서 `python -m venv .venv && source .venv/bin/activate` 등으로 가상환경을 활성화하고,\n",
    "  `pip install -r requirements.txt`로 의존성을 설치합니다.\n",
    "- (선택) FastAPI 데모를 실행하려면 `fastapi`, `uvicorn`, `pydantic` 패키지가 추가로 필요합니다."
   ]
  },
  {
   "cell_type": "markdown",
   "id": "cc1e5104",
   "metadata": {},
   "source": [
    "## 2. LLM 설정 (선택)\n",
    "규칙 기반 추출만 사용할 경우 이 단계를 건너뛰어도 됩니다. LLM 기반 추출을 사용하려면 아래 환경 변수를 설정하세요.\n",
    "- OpenAI: `LLM_PROVIDER=openai`, `OPENAI_API_KEY`, 필요 시 `OPENAI_MODEL`\n",
    "- Gemini: `LLM_PROVIDER=gemini`, `GEMINI_API_KEY`, 필요 시 `GEMINI_MODEL`\n",
    "아래 셀에 키를 직접 입력하면 노트북 세션 동안만 적용됩니다.\n"
   ]
  },
  {
   "cell_type": "code",
   "execution_count": 1,
   "id": "12dbe03d",
   "metadata": {},
   "outputs": [
    {
     "name": "stdout",
     "output_type": "stream",
     "text": [
      "LLM_PROVIDER = gemini\n",
      "OPENAI_API_KEY 설정됨? False\n",
      "GEMINI_API_KEY 설정됨? True\n",
      "GRAIN_AGENT_USE_LLM = true\n"
     ]
    }
   ],
   "source": [
    "import os\n",
    "from dotenv import load_dotenv\n",
    "\n",
    "load_dotenv()  # .env 파일 로드\n",
    "\n",
    "OPENAI_API_KEY = os.getenv(\"OPENAI_API_KEY\")\n",
    "GEMINI_API_KEY = os.getenv(\"GEMINI_API_KEY\")\n",
    "# 아래 값을 채우면 노트북 세션에서만 일시적으로 환경 변수를 설정합니다.\n",
    "LLM_PROVIDER = os.getenv(\"LLM_PROVIDER\", \"gemini\")  # \"openai\" 또는 \"gemini\"\n",
    "OPENAI_MODEL = os.getenv(\"OPENAI_MODEL\", \"gpt-4o-mini\")\n",
    "GEMINI_MODEL = os.getenv(\"GEMINI_MODEL\", \"gemini-2.0-flash\")\n",
    "GRAIN_AGENT_USE_LLM = os.getenv(\"GRAIN_AGENT_USE_LLM\", \"true\")  # \"true\"로 설정하면 LLM 모드를 사용합니다.\n",
    "\n",
    "if LLM_PROVIDER:\n",
    "    os.environ[\"LLM_PROVIDER\"] = LLM_PROVIDER\n",
    "\n",
    "if OPENAI_API_KEY:\n",
    "    os.environ[\"OPENAI_API_KEY\"] = OPENAI_API_KEY\n",
    "if OPENAI_MODEL:\n",
    "    os.environ[\"OPENAI_MODEL\"] = OPENAI_MODEL\n",
    "\n",
    "if GEMINI_API_KEY:\n",
    "    os.environ[\"GEMINI_API_KEY\"] = GEMINI_API_KEY\n",
    "if GEMINI_MODEL:\n",
    "    os.environ[\"GEMINI_MODEL\"] = GEMINI_MODEL\n",
    "\n",
    "if GRAIN_AGENT_USE_LLM:\n",
    "    os.environ[\"GRAIN_AGENT_USE_LLM\"] = GRAIN_AGENT_USE_LLM\n",
    "\n",
    "print(\"LLM_PROVIDER =\", os.getenv(\"LLM_PROVIDER\", \"\"))\n",
    "print(\"OPENAI_API_KEY 설정됨?\", bool(os.getenv(\"OPENAI_API_KEY\")))\n",
    "print(\"GEMINI_API_KEY 설정됨?\", bool(os.getenv(\"GEMINI_API_KEY\")))\n",
    "print(\"GRAIN_AGENT_USE_LLM =\", os.getenv(\"GRAIN_AGENT_USE_LLM\", \"\"))\n"
   ]
  },
  {
   "cell_type": "markdown",
   "id": "9b85cf9a",
   "metadata": {},
   "source": [
    "## 3. 프로젝트 경로 확인\n",
    "아래 셀은 노트북의 현재 작업 경로를 확인하고, `app/` 폴더가 존재하는지 간단히 검사합니다.\n",
    "필요하다면 `PROJECT_ROOT`를 수정해 주세요."
   ]
  },
  {
   "cell_type": "code",
   "execution_count": 2,
   "id": "f2f7fad1",
   "metadata": {},
   "outputs": [
    {
     "name": "stdout",
     "output_type": "stream",
     "text": [
      "PROJECT_ROOT = c:\\Users\\hslee\\Desktop\\grain_recommender_agent\n"
     ]
    }
   ],
   "source": [
    "\n",
    "from pathlib import Path\n",
    "\n",
    "PROJECT_ROOT = Path.cwd()\n",
    "if not (PROJECT_ROOT / \"app\").exists():\n",
    "    raise FileNotFoundError(f\"app/ 폴더를 찾을 수 없습니다: {PROJECT_ROOT}\")\n",
    "\n",
    "print(f\"PROJECT_ROOT = {PROJECT_ROOT}\")\n"
   ]
  },
  {
   "cell_type": "markdown",
   "id": "094f543c",
   "metadata": {},
   "source": [
    "## 4. 모듈 임포트 및 설정\n",
    "`sys.path`에 프로젝트 루트를 추가한 뒤, 에이전트 플로우와 스키마/룰 설정을 로드합니다."
   ]
  },
  {
   "cell_type": "code",
   "execution_count": 3,
   "id": "eb8cf473",
   "metadata": {},
   "outputs": [
    {
     "name": "stdout",
     "output_type": "stream",
     "text": [
      "Imports OK. 스키마 필수 필드: ['purpose', 'frequency', 'texture_pref']\n"
     ]
    }
   ],
   "source": [
    "\n",
    "import sys\n",
    "\n",
    "if str(PROJECT_ROOT) not in sys.path:\n",
    "    sys.path.insert(0, str(PROJECT_ROOT))\n",
    "\n",
    "from pprint import pprint\n",
    "from app.agent.graph import run_agent_flow, SURVEY_SCHEMA, RULE_WEIGHTS\n",
    "\n",
    "print(\"Imports OK. 스키마 필수 필드:\", SURVEY_SCHEMA[\"required\"])\n"
   ]
  },
  {
   "cell_type": "markdown",
   "id": "bd096c94",
   "metadata": {},
   "source": [
    "## 5. 추천 플로우 실행\n",
    "대표적인 입력 예시를 사용해 추천 결과를 확인합니다. 메시지와 페이로드(JSON)를 함께 출력하도록 구성했습니다."
   ]
  },
  {
   "cell_type": "code",
   "execution_count": 4,
   "id": "3bfa0864",
   "metadata": {},
   "outputs": [
    {
     "name": "stdout",
     "output_type": "stream",
     "text": [
      "✅ 추천 배합 (R0)\n",
      "• 백미 35%\n",
      "• 현미 30%\n",
      "• 귀리 18%\n",
      "• 퀴노아 17%\n",
      "\n",
      "📎 이유: 혈당 관리를 돕는 낮은 GI 곡물을 중심으로 구성했어요 글루텐이 포함된 곡물은 제외했어요 사용자가 기피한 보리 는 넣지 않았어요\n",
      "\n",
      "Payload:\n",
      "{'candidates': [],\n",
      " 'meta': {'memory_after': {'disliked': ['보리'],\n",
      "                           'last_feedback': None,\n",
      "                           'liked': [],\n",
      "                           'preferences': {'purpose': '혈당관리',\n",
      "                                           'texture_pref': '찰진밥'},\n",
      "                           'user_id': 'demo-user'},\n",
      "          'memory_before': {'disliked': ['보리'],\n",
      "                            'last_feedback': None,\n",
      "                            'liked': [],\n",
      "                            'preferences': {'purpose': '근력',\n",
      "                                            'texture_pref': '고슬밥'},\n",
      "                            'user_id': 'demo-user'},\n",
      "          'raw_extraction': {'meta': {'mode': 'llm'},\n",
      "                             'raw_entities': {'avoid_gluten': '글루텐',\n",
      "                                              'disliked_grains': '보리',\n",
      "                                              'frequency': '주 6번',\n",
      "                                              'health_issue': '혈당',\n",
      "                                              'purpose': '혈당 관리',\n",
      "                                              'texture_pref': '찰진 식감'},\n",
      "                             'survey': {'avoid_gluten': {'confidence': 0.95,\n",
      "                                                         'source': 'llm',\n",
      "                                                         'value': True},\n",
      "                                        'disliked_grains': {'confidence': 0.8,\n",
      "                                                            'source': 'llm',\n",
      "                                                            'value': ['보리']},\n",
      "                                        'frequency': {'confidence': 0.9,\n",
      "                                                      'source': 'llm',\n",
      "                                                      'value': '주 5-7회'},\n",
      "                                        'health_issue': {'confidence': 0.9,\n",
      "                                                         'source': 'llm',\n",
      "                                                         'value': 'diabetes'},\n",
      "                                        'purpose': {'confidence': 0.95,\n",
      "                                                    'source': 'llm',\n",
      "                                                    'value': '혈당관리'},\n",
      "                                        'texture_pref': {'confidence': 0.95,\n",
      "                                                         'source': 'llm',\n",
      "                                                         'value': '찰진밥'}}}},\n",
      " 'primary': {'id': 'R0',\n",
      "             'mix': {'귀리': 18, '백미': 35, '퀴노아': 17, '현미': 30},\n",
      "             'rationale': None,\n",
      "             'score': 0.0}}\n"
     ]
    }
   ],
   "source": [
    "\n",
    "example_text = \"혈당 관리가 필요하고 주 6번 정도 밥을 먹어요. 찰진 식감이 좋고 보리는 빼주세요. 글루텐은 피하고 싶어요.\"\n",
    "\n",
    "result = run_agent_flow(example_text, user_id=\"demo-user\")\n",
    "print(result[\"message\"])\n",
    "print(\"\\nPayload:\")\n",
    "pprint(result[\"payload\"])\n"
   ]
  },
  {
   "cell_type": "markdown",
   "id": "c14c349c",
   "metadata": {},
   "source": [
    "## 6. 검증 실패/재질문 흐름 확인\n",
    "필수 정보가 부족한 입력을 전달하면 검증 도구가 재질문 메시지를 반환합니다."
   ]
  },
  {
   "cell_type": "code",
   "execution_count": 5,
   "id": "373e4bea",
   "metadata": {},
   "outputs": [
    {
     "name": "stderr",
     "output_type": "stream",
     "text": [
      "LLM 추출 실패로 규칙 기반으로 전환합니다: unhashable type: 'list'\n"
     ]
    },
    {
     "name": "stdout",
     "output_type": "stream",
     "text": [
      "확인을 위해 섭취 빈도를 알려주실 수 있을까요? (예: 주 1-2회 / 주 3-4회 / 주 5-7회)\n",
      "\n",
      "Payload:\n",
      "{'conflicts': [],\n",
      " 'missing_required': ['frequency', 'texture_pref'],\n",
      " 'type': 'reask'}\n"
     ]
    }
   ],
   "source": [
    "\n",
    "missing_text = \"다이어트 목적이에요.\"\n",
    "\n",
    "reask = run_agent_flow(missing_text, user_id=\"demo-user\")\n",
    "print(reask[\"message\"])\n",
    "print(\"\\nPayload:\")\n",
    "pprint(reask[\"payload\"])\n"
   ]
  },
  {
   "cell_type": "markdown",
   "id": "f544260b",
   "metadata": {},
   "source": [
    "## 7. 스키마와 규칙 살펴보기\n",
    "추출/검증/추천에 사용되는 스키마와 규칙 설정을 직접 확인할 수 있습니다.\n",
    "필요시 이 값을 편집해 자신만의 규칙을 정의할 수 있습니다."
   ]
  },
  {
   "cell_type": "code",
   "execution_count": 6,
   "id": "53ee2b22",
   "metadata": {},
   "outputs": [
    {
     "name": "stdout",
     "output_type": "stream",
     "text": [
      "SURVEY_SCHEMA:\n",
      "{'fields': {'avoid_gluten': {'type': 'bool'},\n",
      "            'disliked_grains': {'options_from': 'grains', 'type': 'list'},\n",
      "            'frequency': {'options': ['주 1-2회', '주 3-4회', '주 5-7회'],\n",
      "                          'type': 'enum'},\n",
      "            'health_issue': {'options': ['diabetes', 'none'], 'type': 'enum'},\n",
      "            'purpose': {'options': ['혈당관리', '체중관리', '근력', '맛중심'],\n",
      "                        'type': 'enum'},\n",
      "            'texture_pref': {'options': ['고슬밥', '찰진밥', '무관'], 'type': 'enum'}},\n",
      " 'high_weight': ['purpose', 'health_issue'],\n",
      " 'required': ['purpose', 'frequency', 'texture_pref']}\n",
      "\n",
      "RULE_WEIGHTS (일부):\n",
      "- purpose: {'혈당관리': {'base_multiplier': 1.15, 'feature_multipliers': {'GI': -0.25, '섬유': 0.04}, 'grain_bonuses': {'현미': 1.05, '귀리': 1.05, '퀴노아': 1.04}}, '체중관리': {'base_multiplier': 1.1, 'feature_multipliers': {'섬유': 0.05, '단백': 0.03}, 'grain_bonuses': {'귀리': 1.05, '퀴노아': 1.05}}, '근력': {'base_multiplier': 1.08, 'feature_multipliers': {'단백': 0.05}, 'grain_bonuses': {'퀴노아': 1.06, '귀리': 1.03}}, '맛중심': {'base_multiplier': 1.0, 'feature_multipliers': {}, 'grain_bonuses': {'백미': 1.05}, 'grain_penalties': {'현미': 0.95}}}\n",
      "- texture_taste: {'식감': {'고슬밥': {'feature_multipliers': {'부드러움': -0.08}, 'grain_bonuses': {'현미': 1.02, '퀴노아': 1.02}}, '찰진밥': {'feature_multipliers': {'쫀득': 0.05}, 'grain_bonuses': {'백미': 1.03, '귀리': 1.02}, 'chewy_penalty_threshold': 0.7, 'chewy_penalty_multiplier': 0.9}, '무관': {'feature_multipliers': {}}}, '맛': {'담백/중성': {'feature_multipliers': {}, 'grain_bonuses': {'현미': 1.01, '백미': 1.01}}}}\n",
      "- constitution_gut: {'체질': {'보통': {'feature_multipliers': {}}, '냉': {'feature_multipliers': {'부드러움': 0.02}, 'fiber_penalty_at_least': 5.0, 'fiber_penalty_multiplier': 0.9}}, '장건강': {'보통': {'feature_multipliers': {}}, '민감': {'feature_multipliers': {}, 'fiber_penalty_at_least': 6.0, 'fiber_penalty_multiplier': 0.85, 'soft_bonus': {'base': 1.05, '부드러움': 0.03}}}}\n",
      "- frequency: {'주 1-2회': {'grain_bonuses': {'백미': 1.02}, 'grain_penalties': {'귀리': 0.97}}, '주 3-4회': {'grain_bonuses': {'현미': 1.02}}, '주 5-7회': {'grain_bonuses': {'현미': 1.04, '귀리': 1.03}, 'grain_penalties': {'백미': 0.96}}}\n",
      "- allergen: {'gluten_grains': ['보리', '밀', '호밀'], 'exclude_gluten_grains_if_true': True}\n"
     ]
    }
   ],
   "source": [
    "\n",
    "print(\"SURVEY_SCHEMA:\")\n",
    "pprint(SURVEY_SCHEMA)\n",
    "\n",
    "print(\"\\nRULE_WEIGHTS (일부):\")\n",
    "for key, value in list(RULE_WEIGHTS.items())[:5]:\n",
    "    print(f\"- {key}: {value}\")\n"
   ]
  },
  {
   "cell_type": "markdown",
   "id": "5d7b488e",
   "metadata": {},
   "source": [
    "## 8. 자유 입력 실험용 헬퍼\n",
    "`try_flow` 함수에 임의의 문장을 넣어 결과를 반복적으로 확인할 수 있습니다."
   ]
  },
  {
   "cell_type": "code",
   "execution_count": 7,
   "id": "6b87483e",
   "metadata": {},
   "outputs": [
    {
     "name": "stderr",
     "output_type": "stream",
     "text": [
      "LLM 추출 실패로 규칙 기반으로 전환합니다: unhashable type: 'list'\n"
     ]
    },
    {
     "name": "stdout",
     "output_type": "stream",
     "text": [
      "\n",
      "=== 메시지 ===\n",
      "✅ 추천 배합 (R0)\n",
      "• 현미 35%\n",
      "• 퀴노아 23%\n",
      "• 귀리 22%\n",
      "• 백미 20%\n",
      "\n",
      "📎 이유: 단백질이 풍부한 곡물을 강화했어요 사용자가 기피한 보리 는 넣지 않았어요\n",
      "\n",
      "=== 페이로드 ===\n",
      "{'candidates': [],\n",
      " 'meta': {'memory_after': {'disliked': ['보리'],\n",
      "                           'last_feedback': None,\n",
      "                           'liked': [],\n",
      "                           'preferences': {'purpose': '근력',\n",
      "                                           'texture_pref': '고슬밥'},\n",
      "                           'user_id': 'demo-user'},\n",
      "          'memory_before': {'disliked': ['보리'],\n",
      "                            'last_feedback': None,\n",
      "                            'liked': [],\n",
      "                            'preferences': {'purpose': '혈당관리',\n",
      "                                            'texture_pref': '찰진밥'},\n",
      "                            'user_id': 'demo-user'},\n",
      "          'raw_extraction': {'meta': {'mode': 'llm_fallback_rule'},\n",
      "                             'raw_entities': {'disliked': ['보리'],\n",
      "                                              'frequency': '주 3-4회',\n",
      "                                              'gluten_flag': None,\n",
      "                                              'health': None,\n",
      "                                              'purpose': '근력',\n",
      "                                              'texture': '고슬밥'},\n",
      "                             'survey': {'avoid_gluten': {'confidence': 0.0,\n",
      "                                                         'reason': 'not_confident',\n",
      "                                                         'source': 'rule',\n",
      "                                                         'value': None},\n",
      "                                        'disliked_grains': {'confidence': 0.95,\n",
      "                                                            'source': 'user',\n",
      "                                                            'value': ['보리']},\n",
      "                                        'frequency': {'confidence': 0.85,\n",
      "                                                      'source': 'rule',\n",
      "                                                      'value': '주 3-4회'},\n",
      "                                        'health_issue': {'confidence': 0.0,\n",
      "                                                         'reason': 'not_confident',\n",
      "                                                         'source': 'rule',\n",
      "                                                         'value': None},\n",
      "                                        'purpose': {'confidence': 0.9,\n",
      "                                                    'source': 'rule',\n",
      "                                                    'value': '근력'},\n",
      "                                        'texture_pref': {'confidence': 0.8,\n",
      "                                                         'source': 'rule',\n",
      "                                                         'value': '고슬밥'}}}},\n",
      " 'primary': {'id': 'R0',\n",
      "             'mix': {'귀리': 22, '백미': 20, '퀴노아': 23, '현미': 35},\n",
      "             'rationale': None,\n",
      "             'score': 0.0}}\n"
     ]
    }
   ],
   "source": [
    "\n",
    "def try_flow(text: str, user_id: str = \"demo-user\"):\n",
    "    \"\"\"Utility helper to run the agent flow and pretty-print the results.\"\"\"\n",
    "    output = run_agent_flow(text, user_id=user_id)\n",
    "    print(\"\\n=== 메시지 ===\")\n",
    "    print(output[\"message\"])\n",
    "    print(\"\\n=== 페이로드 ===\")\n",
    "    pprint(output[\"payload\"])\n",
    "    return output\n",
    "\n",
    "# 사용 예시\n",
    "_ = try_flow(\"근력 강화 목표고 주 4번 밥을 먹어요. 고슬한 식감을 원하고 보리는 피하고 싶어요.\")\n"
   ]
  },
  {
   "cell_type": "markdown",
   "id": "3601674e",
   "metadata": {},
   "source": [
    "---\n",
    "\n",
    "필요하다면 FastAPI 엔드포인트(`app/api/main.py`)를 이용해 REST 호출을 테스트할 수도 있습니다.\n",
    "이 경우 `uvicorn`과 `fastapi` 패키지를 설치한 뒤 별도 터미널에서 `uvicorn app.api.main:app --reload`\n",
    "명령을 실행하고, `requests` 혹은 브라우저로 `/recommend`를 호출해 보세요."
   ]
  }
 ],
 "metadata": {
  "kernelspec": {
   "display_name": "Python 3",
   "language": "python",
   "name": "python3"
  },
  "language_info": {
   "codemirror_mode": {
    "name": "ipython",
    "version": 3
   },
   "file_extension": ".py",
   "mimetype": "text/x-python",
   "name": "python",
   "nbconvert_exporter": "python",
   "pygments_lexer": "ipython3",
   "version": "3.13.7"
  }
 },
 "nbformat": 4,
 "nbformat_minor": 5
}
